{
 "cells": [
  {
   "cell_type": "markdown",
   "metadata": {
    "id": "Gp2WddtV9IwG"
   },
   "source": [
    "# Programa Ingenias+ Data Science"
   ]
  },
  {
   "cell_type": "markdown",
   "metadata": {
    "id": "H4M1yVbf9IwH"
   },
   "source": [
    "Como dijimos en clases anteriores, Python tiene implementadas muchas librerias para poder trabajar con datos. En la clase de hoy trabajaremos con una de ellas: `Numpy`."
   ]
  },
  {
   "cell_type": "markdown",
   "metadata": {
    "id": "GdTT8WeL9IwI"
   },
   "source": [
    "Antes de comenzar, vamos a hablar un poco de esta libreria o modulo.\n",
    "\n",
    "**Numpy** es una librería optimizada para realizar cálculos numéricos con vectores y matrices. A diferencia de otros lenguajes de programación, Python no posee en su estructura central la figura de matrices. Eso quiere decir que para poder trabajar con esta estructura de datos deberiamos trabajar con listas de listas. NumPy introduce el concepto de arrays o matrices."
   ]
  },
  {
   "cell_type": "markdown",
   "metadata": {
    "id": "qWkq3EHK9IwK"
   },
   "source": [
    "Al ser de código abierto, `numpy` posee una documentación muy amplia que es **SIEMPRE RECOMENDABLE** consultar."
   ]
  },
  {
   "cell_type": "markdown",
   "metadata": {
    "id": "nxe3KLUO9IwL"
   },
   "source": [
    "- [Documentacion NumPy](https://devdocs.io/numpy/)"
   ]
  },
  {
   "cell_type": "markdown",
   "metadata": {
    "id": "l1Ay3nSs9IwN"
   },
   "source": [
    "## Clase 4: Introduccion a NumPy"
   ]
  },
  {
   "cell_type": "markdown",
   "metadata": {
    "id": "X03mviQS9IyL"
   },
   "source": [
    "# Ejercicios\n",
    "\n",
    "1. Crear un arreglo de ceros de longitud 12\n",
    "2. Crear un arreglo de longitud 10 con ceros en todas sus posiciones y un 10 en la posición número 5\n",
    "3. Crear un arreglo que tenga los números del 10 al 49\n",
    "4. Crear una arreglo 2d de shape (3, 3) que tenga los números del 0 al 8\n",
    "5. Crear un arreglo de números aleatorios de longitud 100 y obtener su media y varianza\n",
    "6. Calcular la media de un arreglo usando np.sum\n",
    "7. Calcular la varianza de un arreglo usando np.sum y np.mean\n",
    "8. Crear un array de números aleatorios usando np.random.randn.\n"
   ]
  },
  {
   "cell_type": "code",
   "execution_count": 5,
   "metadata": {},
   "outputs": [],
   "source": [
    "import numpy as np"
   ]
  },
  {
   "cell_type": "code",
   "execution_count": 6,
   "metadata": {},
   "outputs": [
    {
     "name": "stdout",
     "output_type": "stream",
     "text": [
      "[0. 0. 0. 0. 0. 0. 0. 0. 0. 0. 0. 0.]\n"
     ]
    }
   ],
   "source": [
    "#1 - Crear un arreglo de ceros de longitud 12\n",
    "arreglo_Ceros = np.zeros(12)\n",
    "print(arreglo_Ceros)"
   ]
  },
  {
   "cell_type": "code",
   "execution_count": 7,
   "metadata": {},
   "outputs": [],
   "source": [
    "#2 - Crear un arreglo de longitud 10 con ceros en todas sus posiciones y un 10 en la posición número 5"
   ]
  },
  {
   "cell_type": "code",
   "execution_count": 13,
   "metadata": {},
   "outputs": [
    {
     "name": "stdout",
     "output_type": "stream",
     "text": [
      "[ 0.  0.  0.  0.  0. 10.  0.  0.  0.  0.]\n"
     ]
    }
   ],
   "source": [
    "arreglo_Ceros = np.zeros(10)\n",
    "arreglo_Ceros[5] = 10\n",
    "print(arreglo_Ceros)"
   ]
  },
  {
   "cell_type": "code",
   "execution_count": 14,
   "metadata": {},
   "outputs": [],
   "source": [
    "#3 - Crear un arreglo que tenga los números del 10 al 49"
   ]
  },
  {
   "cell_type": "code",
   "execution_count": 15,
   "metadata": {},
   "outputs": [
    {
     "name": "stdout",
     "output_type": "stream",
     "text": [
      "[10 11 12 13 14 15 16 17 18 19 20 21 22 23 24 25 26 27 28 29 30 31 32 33\n",
      " 34 35 36 37 38 39 40 41 42 43 44 45 46 47 48 49]\n"
     ]
    }
   ],
   "source": [
    "arreglo_Numeros = np.arange(10, 50)\n",
    "print(arreglo_Numeros)"
   ]
  },
  {
   "cell_type": "code",
   "execution_count": 16,
   "metadata": {},
   "outputs": [],
   "source": [
    "#4 - Crear una arreglo 2d de shape (3, 3) que tenga los números del 0 al 8"
   ]
  },
  {
   "cell_type": "code",
   "execution_count": 17,
   "metadata": {},
   "outputs": [
    {
     "name": "stdout",
     "output_type": "stream",
     "text": [
      "[[0 1 2]\n",
      " [3 4 5]\n",
      " [6 7 8]]\n"
     ]
    }
   ],
   "source": [
    "# Crea un arreglo unidimensional con los números del 0 al 8\n",
    "arreglo_Unidimensional = np.arange(9)\n",
    "\n",
    "# Modifico el arreglo unidimensional en un arreglo 2D de forma (3, 3)\n",
    "arreglo_2d = arreglo_Unidimensional.reshape(3, 3)\n",
    "print(arreglo_2d)"
   ]
  },
  {
   "cell_type": "code",
   "execution_count": 18,
   "metadata": {},
   "outputs": [],
   "source": [
    "#5 - Crear un arreglo de números aleatorios de longitud 100 y obtener su media y varianza"
   ]
  },
  {
   "cell_type": "code",
   "execution_count": 20,
   "metadata": {},
   "outputs": [
    {
     "name": "stdout",
     "output_type": "stream",
     "text": [
      "[0.5511186  0.07725417 0.09487092 0.95571763 0.89404641 0.88573278\n",
      " 0.99235013 0.93882913 0.14859643 0.67456876 0.36874872 0.24916833\n",
      " 0.58703961 0.84958248 0.52854367 0.41373512 0.25709364 0.65257619\n",
      " 0.40002273 0.55434156 0.90682717 0.96159824 0.65598609 0.9200566\n",
      " 0.31652953 0.70695986 0.46617799 0.81804623 0.97365224 0.45271411\n",
      " 0.68055586 0.82795012 0.68540959 0.03263218 0.41496008 0.4756601\n",
      " 0.36000088 0.40476036 0.08612514 0.3184533  0.97599464 0.6429437\n",
      " 0.16911686 0.70616795 0.07388734 0.76205561 0.17768784 0.29294554\n",
      " 0.49836042 0.95652129 0.91079305 0.51717834 0.31435312 0.48571207\n",
      " 0.33886365 0.5175648  0.02880413 0.92040497 0.90327248 0.43935711\n",
      " 0.12282129 0.81464897 0.66462642 0.0267125  0.18075608 0.82949768\n",
      " 0.10572625 0.22044783 0.92315898 0.63985049 0.03663071 0.95170702\n",
      " 0.98969965 0.27767971 0.16410587 0.89501123 0.28055287 0.7335413\n",
      " 0.31654744 0.38029373 0.03765196 0.18810397 0.81138514 0.90063529\n",
      " 0.52234694 0.95578596 0.54980709 0.28649025 0.20415246 0.05157777\n",
      " 0.24007324 0.95315471 0.15139784 0.78849    0.66768892 0.14969646\n",
      " 0.8773052  0.47091147 0.980408   0.34982918]\n"
     ]
    }
   ],
   "source": [
    "arreglo_Aleatorio = np.random.rand(100)\n",
    "\n",
    "print(arreglo_Aleatorio)"
   ]
  },
  {
   "cell_type": "code",
   "execution_count": 22,
   "metadata": {},
   "outputs": [
    {
     "name": "stdout",
     "output_type": "stream",
     "text": [
      "0.5286188547299807\n",
      "0.09496632472608044\n"
     ]
    }
   ],
   "source": [
    "# Calcula la media del arreglo\n",
    "media = np.mean(arreglo_aleatorio)\n",
    "print(media)\n",
    "\n",
    "# Calcula la varianza del arreglo\n",
    "varianza = np.var(arreglo_aleatorio)\n",
    "print(varianza)"
   ]
  },
  {
   "cell_type": "code",
   "execution_count": 23,
   "metadata": {},
   "outputs": [],
   "source": [
    "#6 - Calcular la media de un arreglo usando np.sum"
   ]
  },
  {
   "cell_type": "code",
   "execution_count": 24,
   "metadata": {},
   "outputs": [
    {
     "name": "stdout",
     "output_type": "stream",
     "text": [
      "Media: 3.0\n"
     ]
    }
   ],
   "source": [
    "arreglo = np.array([1, 2, 3, 4, 5])\n",
    "\n",
    "media = np.sum(arreglo) / len(arreglo)\n",
    "print(\"Media:\", media)"
   ]
  },
  {
   "cell_type": "code",
   "execution_count": 29,
   "metadata": {},
   "outputs": [],
   "source": [
    "#7 - Calcular la varianza de un arreglo usando np.sum y np.mean"
   ]
  },
  {
   "cell_type": "code",
   "execution_count": 31,
   "metadata": {},
   "outputs": [
    {
     "name": "stdout",
     "output_type": "stream",
     "text": [
      "Varianza: 2.0\n"
     ]
    }
   ],
   "source": [
    "arreglo = np.array([1, 2, 3, 4, 5])\n",
    "\n",
    "media = np.mean(arreglo)\n",
    "varianza = np.sum((arreglo - media)**2) / len(arreglo)\n",
    "\n",
    "print(\"Varianza:\", varianza)"
   ]
  },
  {
   "cell_type": "code",
   "execution_count": 32,
   "metadata": {},
   "outputs": [],
   "source": [
    "#8 - Crear un array de números aleatorios usando np.random.randn."
   ]
  },
  {
   "cell_type": "code",
   "execution_count": 33,
   "metadata": {},
   "outputs": [
    {
     "name": "stdout",
     "output_type": "stream",
     "text": [
      "[ 0.66202422 -1.11190271 -0.36326655 -1.43215395 -0.10447187 -0.61623257\n",
      " -0.00632064  1.03686515  0.80930549 -0.10315416]\n"
     ]
    }
   ],
   "source": [
    "arreglo_Aleatorio = np.random.randn(10)\n",
    "\n",
    "print(arreglo_Aleatorio)"
   ]
  }
 ],
 "metadata": {
  "colab": {
   "provenance": []
  },
  "kernelspec": {
   "display_name": "Python 3 (ipykernel)",
   "language": "python",
   "name": "python3"
  },
  "language_info": {
   "codemirror_mode": {
    "name": "ipython",
    "version": 3
   },
   "file_extension": ".py",
   "mimetype": "text/x-python",
   "name": "python",
   "nbconvert_exporter": "python",
   "pygments_lexer": "ipython3",
   "version": "3.11.3"
  }
 },
 "nbformat": 4,
 "nbformat_minor": 1
}
